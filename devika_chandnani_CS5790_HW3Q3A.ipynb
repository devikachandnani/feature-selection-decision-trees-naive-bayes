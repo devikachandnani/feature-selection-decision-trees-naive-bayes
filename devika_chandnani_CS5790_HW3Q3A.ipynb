{
 "cells": [
  {
   "cell_type": "code",
   "execution_count": 39,
   "metadata": {},
   "outputs": [],
   "source": [
    "import numpy as np\n",
    "import pandas as pd\n",
    "from pandas import DataFrame as df\n",
    "from scipy.io import arff\n",
    "from __future__ import division"
   ]
  },
  {
   "cell_type": "code",
   "execution_count": 40,
   "metadata": {},
   "outputs": [],
   "source": [
    "def PCC(df_x , df_y, SumofYSqrd, mean_y):\n",
    "    SumofXSqrd = np.sum(np.square(df_x))\n",
    "    sum_coproduct = np.sum( df_x * df_y )\n",
    "    mean_x = np.mean(df_x)\n",
    "    \n",
    "    pop_sd_x = np.sqrt( (SumofXSqrd / float(len(df_x))) - (mean_x**2) )\n",
    "    pop_sd_y = np.sqrt( (SumofYSqrd / float(len(df_y))) - (mean_y**2) )\n",
    "    xyCov = ( (sum_coproduct / len(df_y)) - (mean_x * mean_y) )\n",
    "    \n",
    "    correlation = ( xyCov / (pop_sd_x * pop_sd_y) )\n",
    "\n",
    "    return correlation"
   ]
  },
  {
   "cell_type": "code",
   "execution_count": 41,
   "metadata": {},
   "outputs": [],
   "source": [
    "input = arff.loadarff(\"veh-prime.arff\")\n",
    "df_training = pd.DataFrame(input[0])\n",
    "\n",
    "df_training['CLASS'] = np.where(df_training['CLASS'] == b'noncar', 0, 1)"
   ]
  },
  {
   "cell_type": "code",
   "execution_count": 42,
   "metadata": {},
   "outputs": [
    {
     "name": "stdout",
     "output_type": "stream",
     "text": [
      "   FEATURE     |PCC|\n",
      "4       f4  0.436922\n",
      "13     f13  0.368269\n",
      "14     f14  0.368224\n",
      "16     f16  0.366025\n",
      "7       f7  0.352141\n",
      "22     f22  0.351350\n",
      "26     f26  0.341043\n",
      "1       f1  0.308811\n",
      "20     f20  0.299049\n",
      "31     f31  0.290783\n",
      "34     f34  0.266093\n",
      "2       f2  0.195732\n",
      "28     f28  0.156904\n",
      "25     f25  0.153096\n",
      "19     f19  0.137636\n",
      "17     f17  0.113945\n",
      "32     f32  0.093174\n",
      "8       f8  0.087773\n",
      "0       f0  0.069795\n",
      "10     f10  0.056876\n",
      "21     f21  0.056605\n",
      "11     f11  0.042117\n",
      "33     f33  0.038810\n",
      "6       f6  0.035295\n",
      "15     f15  0.031478\n",
      "35     f35  0.030855\n",
      "29     f29  0.020829\n",
      "18     f18  0.017931\n",
      "27     f27  0.015606\n",
      "9       f9  0.013005\n",
      "3       f3  0.009214\n",
      "30     f30  0.008955\n",
      "24     f24  0.007780\n",
      "23     f23  0.005508\n",
      "12     f12  0.002179\n",
      "5       f5  0.000098\n"
     ]
    }
   ],
   "source": [
    "SumofYSqrd = np.sum(np.square(df_training['CLASS']))\n",
    "mean_y = np.mean(df_training['CLASS'])\n",
    "\n",
    "list_feature = []\n",
    "list_pcc_abs = []\n",
    "list_pcc = []\n",
    "\n",
    "for counter in range(len(df_training.columns) - 1):\n",
    "    list_feature.append(df_training.columns[counter])\n",
    "    pcc = PCC(df_training[df_training.columns[counter]], df_training['CLASS'], SumofYSqrd, mean_y)\n",
    "    list_pcc.append( pcc )\n",
    "    list_pcc_abs.append( np.abs(pcc) )\n",
    "  \n",
    "dict_temp = {'FEATURE' : list_feature, '|PCC|' : list_pcc_abs}\n",
    "df_pcc = pd.DataFrame(dict_temp)\n",
    "print(df_pcc.sort_values(['|PCC|'] , ascending=0))"
   ]
  }
 ],
 "metadata": {
  "interpreter": {
   "hash": "aee8b7b246df8f9039afb4144a1f6fd8d2ca17a180786b69acc140d282b71a49"
  },
  "kernelspec": {
   "display_name": "Python 3.9.6 64-bit",
   "language": "python",
   "name": "python3"
  },
  "language_info": {
   "codemirror_mode": {
    "name": "ipython",
    "version": 3
   },
   "file_extension": ".py",
   "mimetype": "text/x-python",
   "name": "python",
   "nbconvert_exporter": "python",
   "pygments_lexer": "ipython3",
   "version": "3.9.6"
  },
  "orig_nbformat": 4
 },
 "nbformat": 4,
 "nbformat_minor": 2
}
